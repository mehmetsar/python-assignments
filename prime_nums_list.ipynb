{
  "nbformat": 4,
  "nbformat_minor": 0,
  "metadata": {
    "colab": {
      "name": "prime_nums_list.ipynb",
      "provenance": [],
      "authorship_tag": "ABX9TyOJq4oQCCfe7uy3PBD+VT23",
      "include_colab_link": true
    },
    "kernelspec": {
      "name": "python3",
      "display_name": "Python 3"
    },
    "language_info": {
      "name": "python"
    }
  },
  "cells": [
    {
      "cell_type": "markdown",
      "metadata": {
        "id": "view-in-github",
        "colab_type": "text"
      },
      "source": [
        "<a href=\"https://colab.research.google.com/github/mehmetsar/python-assignments/blob/main/prime_nums_list.ipynb\" target=\"_parent\"><img src=\"https://colab.research.google.com/assets/colab-badge.svg\" alt=\"Open In Colab\"/></a>"
      ]
    },
    {
      "cell_type": "code",
      "metadata": {
        "id": "fQUbEruNW8MN"
      },
      "source": [
        "number=int(input(\"enter a positive number:   \"))\n",
        "list_nums=[]\n",
        "\n",
        "for num in range(2, number + 1):\n",
        "   if num > 1:\n",
        "       for i in range(2, num):\n",
        "           if (num % i) == 0:\n",
        "               break\n",
        "       else:\n",
        "           list_nums.append(num)\n",
        "\n",
        "print(list_nums)           "
      ],
      "execution_count": null,
      "outputs": []
    }
  ]
}