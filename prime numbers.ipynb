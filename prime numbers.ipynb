{
  "nbformat": 4,
  "nbformat_minor": 0,
  "metadata": {
    "colab": {
      "name": "Untitled12.ipynb",
      "provenance": []
    },
    "kernelspec": {
      "name": "python3",
      "display_name": "Python 3"
    },
    "language_info": {
      "name": "python"
    }
  },
  "cells": [
    {
      "cell_type": "code",
      "metadata": {
        "colab": {
          "base_uri": "https://localhost:8080/"
        },
        "id": "yuuk1-em_ZLS",
        "outputId": "3c65925f-5231-49be-beb8-f78e154974d7"
      },
      "source": [
        "#input →  19 ⇉ output : 19 is a prime number\n",
        "#input →  10 ⇉ output : 10 is not a prime number\n",
        "\n",
        "number=int(input(\"enter a positive number:   \"))\n",
        "if number!=2 and number!=3 and number!=5 and number!=7 : \n",
        "  if not number%2 or not number%3 or not number%5 or not number%7:\n",
        "    print(\"{} is not a prime number\".format(number))\n",
        "  else:\n",
        "    print(\"{} is  a prime number\".format(number))\n",
        "else:\n",
        "  print(\"{} is  a prime number\".format(number))\n"
      ],
      "execution_count": 18,
      "outputs": [
        {
          "output_type": "stream",
          "text": [
            "enter a positive number:   5\n",
            "5 is  a prime number\n"
          ],
          "name": "stdout"
        }
      ]
    }
  ]
}