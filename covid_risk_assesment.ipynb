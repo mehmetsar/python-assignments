{
  "nbformat": 4,
  "nbformat_minor": 0,
  "metadata": {
    "colab": {
      "name": "Untitled10.ipynb",
      "provenance": [],
      "collapsed_sections": []
    },
    "kernelspec": {
      "name": "python3",
      "display_name": "Python 3"
    },
    "language_info": {
      "name": "python"
    }
  },
  "cells": [
    {
      "cell_type": "code",
      "metadata": {
        "colab": {
          "base_uri": "https://localhost:8080/"
        },
        "id": "xg3NiJ7J7mU0",
        "outputId": "e84c02d1-2680-4a9b-f800-7a1edc1fe5de"
      },
      "source": [
        "age= input(\"Are you a cigarette addict older than 75 years old?: Yes/No   \").strip().title()==\"Yes\"\n",
        "chronic=input(\"Do you have a severe chronic disease?: Yes/No   \").strip().title()==\"Yes\"\n",
        "immune=input(\"Is your immune system too weak?: Yes/No   \").strip().title()==\"Yes\"\n",
        "\n",
        "if age or chronic or immune:\n",
        "  print(\"You are in risky group\")\n",
        "else:\n",
        "  print(\"You are not in risky group\")  "
      ],
      "execution_count": 2,
      "outputs": [
        {
          "output_type": "stream",
          "text": [
            "Are you a cigarette addict older than 75 years old?: Yes/No   yes\n",
            "Do you have a severe chronic disease?: Yes/No   no\n",
            "Is your immune system too weak?: Yes/No   yes\n",
            "You are in risky group\n"
          ],
          "name": "stdout"
        }
      ]
    },
    {
      "cell_type": "code",
      "metadata": {
        "colab": {
          "base_uri": "https://localhost:8080/"
        },
        "id": "UgamrfJTgfJ0",
        "outputId": "7ce589a3-ed76-4d84-a9bf-eb4abf1f06b7"
      },
      "source": [
        "Task : Estimating the risk of death from coronavirus. Write a program that;\n",
        "\n",
        "Takes \"Yes\" or \"No\" from the user as an answer to the following questions :\n",
        "\n",
        "Are you a cigarette addict older than 75 years old? Variable → age\n",
        "\n",
        "Do you have a severe chronic disease? Variable → chronic\n",
        "\n",
        "Is your immune system too weak? Variable → immune\n",
        "\n",
        "Set a logical algorithm using boolean logic operators (and/or) and use if-statements with the given variables in order to print out us a message : \"You are in risky group\"(if True ) or \"You are not in risky group\" (if False).\n",
        "age =  # can be assigned only True/False\n",
        "chronic =  # can be assigned only True/False\n",
        "immune =  # can be assigned only True/False\n",
        "risk = ?"
      ],
      "execution_count": null,
      "outputs": [
        {
          "output_type": "stream",
          "text": [
            "enter the height of walls:  6\n",
            "enter the height of walls:  7\n",
            "enter the height of walls:  2\n",
            "enter the height of walls:  8\n",
            "enter the height of walls:  ok\n",
            "[6, 7, 2, 8]\n",
            "7\n",
            "8\n",
            "5\n"
          ],
          "name": "stdout"
        }
      ]
    },
    {
      "cell_type": "code",
      "metadata": {
        "id": "4LlcamJ8gb8R"
      },
      "source": [
        "65892436"
      ],
      "execution_count": null,
      "outputs": []
    }
  ]
}