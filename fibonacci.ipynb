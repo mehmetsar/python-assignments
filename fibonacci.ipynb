{
  "nbformat": 4,
  "nbformat_minor": 0,
  "metadata": {
    "colab": {
      "name": "fibonacci.ipynb",
      "provenance": [],
      "collapsed_sections": [],
      "authorship_tag": "ABX9TyPgQgkJkxdSX5ZKGlGmKzoz",
      "include_colab_link": true
    },
    "kernelspec": {
      "name": "python3",
      "display_name": "Python 3"
    },
    "language_info": {
      "name": "python"
    }
  },
  "cells": [
    {
      "cell_type": "markdown",
      "metadata": {
        "id": "view-in-github",
        "colab_type": "text"
      },
      "source": [
        "<a href=\"https://colab.research.google.com/github/mehmetsar/python-assignments/blob/main/fibonacci.ipynb\" target=\"_parent\"><img src=\"https://colab.research.google.com/assets/colab-badge.svg\" alt=\"Open In Colab\"/></a>"
      ]
    },
    {
      "cell_type": "code",
      "metadata": {
        "id": "u1i1hudTyHPM",
        "colab": {
          "base_uri": "https://localhost:8080/"
        },
        "outputId": "7c64f31e-115c-4755-831f-6401a88851e1"
      },
      "source": [
        "fibo_last=55\n",
        "numbers=range(1,55)\n",
        "fibo=[]\n",
        "fibo.append(numbers[0])\n",
        "count=0\n",
        "while fibo_last>fibo[-1] and count+1<len(numbers):\n",
        "  fibo.append(fibo[count]+fibo[count+1]) \n",
        "  count+=1\n",
        "print(fibo)  "
      ],
      "execution_count": 1,
      "outputs": [
        {
          "output_type": "stream",
          "text": [
            "[1, 1, 2, 3, 5, 8, 13, 21, 34, 55]\n"
          ],
          "name": "stdout"
        }
      ]
    }
  ]
}