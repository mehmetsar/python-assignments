{
  "nbformat": 4,
  "nbformat_minor": 0,
  "metadata": {
    "colab": {
      "name": "LeterCounter.ipynb",
      "provenance": [],
      "authorship_tag": "ABX9TyMVbkGAYj+rmysW3UokUeyB",
      "include_colab_link": true
    },
    "kernelspec": {
      "name": "python3",
      "display_name": "Python 3"
    },
    "language_info": {
      "name": "python"
    }
  },
  "cells": [
    {
      "cell_type": "markdown",
      "metadata": {
        "id": "view-in-github",
        "colab_type": "text"
      },
      "source": [
        "<a href=\"https://colab.research.google.com/github/mehmetsar/python-assignments/blob/main/LeterCounter.ipynb\" target=\"_parent\"><img src=\"https://colab.research.google.com/assets/colab-badge.svg\" alt=\"Open In Colab\"/></a>"
      ]
    },
    {
      "cell_type": "markdown",
      "metadata": {
        "id": "sMPakGtmX8Wa"
      },
      "source": [
        "vCount the number of each letter in a sentence.\n",
        "The department you work for undertook a project construction that makes word / text analysis. You are asked to calculate the number of letters or any chars in the sentences entered under this project.\n",
        "Write a Python program that;\n",
        "takes a sentence from the user,\n",
        "counts the number of each letter of the sentence,\n",
        "collects the letters/chars as a key and the counted numbers as a value in a dictionary.\n",
        "\n",
        "Examples\n",
        "Sample inputs\tOutputs\n",
        "hippo runs to us!\t\n",
        "{'s': 2, 'r': 1, 't': 1, 'h': 1, 'n': 1, \n",
        " 'i': 1, 'u': 2, 'o': 2, 'p': 2, ' ': 3, '!': 1}"
      ]
    },
    {
      "cell_type": "code",
      "metadata": {
        "id": "NVj9RAXvX7kI"
      },
      "source": [
        "def let_count(sentence1):\n",
        "    sentence1=sentence1.replace(\" \",\"\")\n",
        "    dict_sentence={}\n",
        "    for i in sentence1:\n",
        "      dict_sentence[i]=sentence1.count(i)\n",
        "    return dict_sentence  "
      ],
      "execution_count": 7,
      "outputs": []
    },
    {
      "cell_type": "code",
      "metadata": {
        "colab": {
          "base_uri": "https://localhost:8080/"
        },
        "id": "9uBWQxWUYVJn",
        "outputId": "b5cb34de-00bf-43ab-f5ad-36b058bfc745"
      },
      "source": [
        "example=\"ali ata bak!\"\n",
        "let_count(example)"
      ],
      "execution_count": 9,
      "outputs": [
        {
          "output_type": "execute_result",
          "data": {
            "text/plain": [
              "{'!': 1, 'a': 4, 'b': 1, 'i': 1, 'k': 1, 'l': 1, 't': 1}"
            ]
          },
          "metadata": {
            "tags": []
          },
          "execution_count": 9
        }
      ]
    }
  ]
}