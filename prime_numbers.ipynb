{
  "nbformat": 4,
  "nbformat_minor": 0,
  "metadata": {
    "colab": {
      "name": "prime numbers.ipynb",
      "provenance": [],
      "collapsed_sections": [],
      "include_colab_link": true
    },
    "kernelspec": {
      "name": "python3",
      "display_name": "Python 3"
    },
    "language_info": {
      "name": "python"
    }
  },
  "cells": [
    {
      "cell_type": "markdown",
      "metadata": {
        "id": "view-in-github",
        "colab_type": "text"
      },
      "source": [
        "<a href=\"https://colab.research.google.com/github/mehmetsar/python-assignments/blob/main/prime_numbers.ipynb\" target=\"_parent\"><img src=\"https://colab.research.google.com/assets/colab-badge.svg\" alt=\"Open In Colab\"/></a>"
      ]
    },
    {
      "cell_type": "code",
      "metadata": {
        "colab": {
          "base_uri": "https://localhost:8080/"
        },
        "id": "yuuk1-em_ZLS",
        "outputId": "3c65925f-5231-49be-beb8-f78e154974d7"
      },
      "source": [
        "number=int(input(\"enter a positive number:   \"))\n",
        "n=2\n",
        "check=False\n",
        "while n<number:\n",
        "  if number%n:\n",
        "    check=True\n",
        "  n+=1\n",
        "if check:\n",
        "  print(\"{} is not a prime number\".format(number))\n",
        "else:\n",
        "  print(\"{} is a prime number\".format(number))"
      ],
      "execution_count": null,
      "outputs": [
        {
          "output_type": "stream",
          "text": [
            "enter a positive number:   5\n",
            "5 is  a prime number\n"
          ],
          "name": "stdout"
        }
      ]
    },
    {
      "cell_type": "code",
      "metadata": {
        "colab": {
          "base_uri": "https://localhost:8080/",
          "height": 129
        },
        "id": "WnPjjvnMJbdT",
        "outputId": "856ca2d8-b267-4935-9b45-35c6f82966f1"
      },
      "source": [
        "number=int(input(\"enter a positive number:   \"))\n",
        "lambda x,n: not (x%n) for n in range(x)"
      ],
      "execution_count": 4,
      "outputs": [
        {
          "output_type": "error",
          "ename": "SyntaxError",
          "evalue": "ignored",
          "traceback": [
            "\u001b[0;36m  File \u001b[0;32m\"<ipython-input-4-b05c3a0f79bd>\"\u001b[0;36m, line \u001b[0;32m2\u001b[0m\n\u001b[0;31m    lambda x,n: not (x%n) for n in range(x)\u001b[0m\n\u001b[0m                            ^\u001b[0m\n\u001b[0;31mSyntaxError\u001b[0m\u001b[0;31m:\u001b[0m invalid syntax\n"
          ]
        }
      ]
    },
    {
      "cell_type": "code",
      "metadata": {
        "colab": {
          "base_uri": "https://localhost:8080/"
        },
        "id": "1vhkxttyK23m",
        "outputId": "5cfc6ff0-d193-459a-9d34-7410ead9e478"
      },
      "source": [
        "number=int(input(\"enter a positive number:   \"))\n",
        "list_nums=[]\n",
        "for i in range(2,number+1):\n",
        "  list_nums.append(i)\n",
        "print(list_nums)\n",
        "final_list=[]\n",
        "check=True\n",
        "n=2\n",
        "for i in list_nums:\n",
        "  while n < i:\n",
        "    if i%n:\n",
        "      check=False\n",
        "    n+=1\n",
        "  if check:\n",
        "    final_list.append(i)\n",
        "    check=True \n",
        "print(final_list)      \n",
        "\n",
        "\n"
      ],
      "execution_count": 55,
      "outputs": [
        {
          "output_type": "stream",
          "text": [
            "enter a positive number:   15\n",
            "[2, 3, 4, 5, 6, 7, 8, 9, 10, 11, 12, 13, 14, 15]\n",
            "[2]\n"
          ],
          "name": "stdout"
        }
      ]
    }
  ]
}