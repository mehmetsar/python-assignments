{
  "nbformat": 4,
  "nbformat_minor": 0,
  "metadata": {
    "colab": {
      "name": "FizzBuzz.ipynb",
      "provenance": [],
      "authorship_tag": "ABX9TyNCmq3D83kCMgr6qO/KcFB7",
      "include_colab_link": true
    },
    "kernelspec": {
      "name": "python3",
      "display_name": "Python 3"
    },
    "language_info": {
      "name": "python"
    }
  },
  "cells": [
    {
      "cell_type": "markdown",
      "metadata": {
        "id": "view-in-github",
        "colab_type": "text"
      },
      "source": [
        "<a href=\"https://colab.research.google.com/github/mehmetsar/python-assignments/blob/main/FizzBuzz.ipynb\" target=\"_parent\"><img src=\"https://colab.research.google.com/assets/colab-badge.svg\" alt=\"Open In Colab\"/></a>"
      ]
    },
    {
      "cell_type": "code",
      "metadata": {
        "colab": {
          "base_uri": "https://localhost:8080/"
        },
        "id": "T88Cze8x8zjT",
        "outputId": "ffea5278-15ae-4104-8a52-48415ea6aadb"
      },
      "source": [
        "list_a=range(1,101)\n",
        "new_list=[]\n",
        "for i in list_a:\n",
        "  if (i%3)!=0 and (i%5)!=0 and (i%15)!=0:\n",
        "    new_list.append(i)\n",
        "  elif i%15==0:\n",
        "    new_list.append(\"FizzBuzz\")  \n",
        "  elif i%3==0:\n",
        "    new_list.append(\"Fizz\")\n",
        "  elif i%5==0:\n",
        "    new_list.append(\"Buzz\")  \n",
        "  \n",
        "print(new_list)\n",
        "  "
      ],
      "execution_count": 12,
      "outputs": [
        {
          "output_type": "execute_result",
          "data": {
            "text/plain": [
              "[1,\n",
              " 2,\n",
              " 'Fizz',\n",
              " 4,\n",
              " 'Buzz',\n",
              " 'Fizz',\n",
              " 7,\n",
              " 8,\n",
              " 'Fizz',\n",
              " 'Buzz',\n",
              " 11,\n",
              " 'Fizz',\n",
              " 13,\n",
              " 14,\n",
              " 'FizzBuzz',\n",
              " 16,\n",
              " 17,\n",
              " 'Fizz',\n",
              " 19,\n",
              " 'Buzz',\n",
              " 'Fizz',\n",
              " 22,\n",
              " 23,\n",
              " 'Fizz',\n",
              " 'Buzz',\n",
              " 26,\n",
              " 'Fizz',\n",
              " 28,\n",
              " 29,\n",
              " 'FizzBuzz',\n",
              " 31,\n",
              " 32,\n",
              " 'Fizz',\n",
              " 34,\n",
              " 'Buzz',\n",
              " 'Fizz',\n",
              " 37,\n",
              " 38,\n",
              " 'Fizz',\n",
              " 'Buzz',\n",
              " 41,\n",
              " 'Fizz',\n",
              " 43,\n",
              " 44,\n",
              " 'FizzBuzz',\n",
              " 46,\n",
              " 47,\n",
              " 'Fizz',\n",
              " 49,\n",
              " 'Buzz',\n",
              " 'Fizz',\n",
              " 52,\n",
              " 53,\n",
              " 'Fizz',\n",
              " 'Buzz',\n",
              " 56,\n",
              " 'Fizz',\n",
              " 58,\n",
              " 59,\n",
              " 'FizzBuzz',\n",
              " 61,\n",
              " 62,\n",
              " 'Fizz',\n",
              " 64,\n",
              " 'Buzz',\n",
              " 'Fizz',\n",
              " 67,\n",
              " 68,\n",
              " 'Fizz',\n",
              " 'Buzz',\n",
              " 71,\n",
              " 'Fizz',\n",
              " 73,\n",
              " 74,\n",
              " 'FizzBuzz',\n",
              " 76,\n",
              " 77,\n",
              " 'Fizz',\n",
              " 79,\n",
              " 'Buzz',\n",
              " 'Fizz',\n",
              " 82,\n",
              " 83,\n",
              " 'Fizz',\n",
              " 'Buzz',\n",
              " 86,\n",
              " 'Fizz',\n",
              " 88,\n",
              " 89,\n",
              " 'FizzBuzz',\n",
              " 91,\n",
              " 92,\n",
              " 'Fizz',\n",
              " 94,\n",
              " 'Buzz',\n",
              " 'Fizz',\n",
              " 97,\n",
              " 98,\n",
              " 'Fizz',\n",
              " 'Buzz']"
            ]
          },
          "metadata": {
            "tags": []
          },
          "execution_count": 12
        }
      ]
    }
  ]
}